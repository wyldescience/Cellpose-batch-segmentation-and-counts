{
  "nbformat": 4,
  "nbformat_minor": 0,
  "metadata": {
    "colab": {
      "provenance": [],
      "machine_shape": "hm",
      "gpuType": "V100",
      "mount_file_id": "1ff9_DEkBTKyhO-IeqRoYJNwA7z94O-Ey",
      "authorship_tag": "ABX9TyOiEz71dAiWBtZAxh0dh2bH",
      "include_colab_link": true
    },
    "kernelspec": {
      "name": "python3",
      "display_name": "Python 3"
    },
    "language_info": {
      "name": "python"
    },
    "accelerator": "GPU"
  },
  "cells": [
    {
      "cell_type": "markdown",
      "metadata": {
        "id": "view-in-github",
        "colab_type": "text"
      },
      "source": [
        "<a href=\"https://colab.research.google.com/github/wyldescience/Cellpose-batch-segmentation-and-counts/blob/main/Cellpose_segment_count.ipynb\" target=\"_parent\"><img src=\"https://colab.research.google.com/assets/colab-badge.svg\" alt=\"Open In Colab\"/></a>"
      ]
    },
    {
      "cell_type": "markdown",
      "source": [
        "**Install packages and mount drive**"
      ],
      "metadata": {
        "id": "kppJmuTAbAKz"
      }
    },
    {
      "cell_type": "markdown",
      "source": [
        "# Cellpose batch processing to segment ,count, and save output to csv file.\n",
        "\n",
        "Here I use a pretrained cellpose model (Stringer, C., Wang, T., Michaelos, M., & Pachitariu, M. (2021), see paper and github to segment, count, and save output (overlays of masks over original image). Please see the Image.sc forum here where some of the fantastic community suggested this as a good way to segment and count the collembola egg images from my study. Another option that worked quite well was also template matching (opencv).\n",
        "\n",
        "Here I apply this to the mass counting of eggs from the springtail, *Folsomia candida*, laid on black filter paper and imaged using a dissection microscope (pretty low resolution). The output created from this script results in the original images with overlays as well as separate masks. Additionally, this script also pulls pertinent information from filenames to add to columns in the csv file."
      ],
      "metadata": {
        "id": "U65i2oFAQQyF"
      }
    },
    {
      "cell_type": "code",
      "source": [
        "from google.colab import drive\n",
        "drive.mount('/content/drive')"
      ],
      "metadata": {
        "id": "-Km4KRFfVry3"
      },
      "execution_count": null,
      "outputs": []
    },
    {
      "cell_type": "code",
      "execution_count": null,
      "metadata": {
        "id": "w7PcJp2ZVmtA"
      },
      "outputs": [],
      "source": [
        "!pip install \"opencv-python-headless<4.3\"\n",
        "!pip install cellpose"
      ]
    },
    {
      "cell_type": "code",
      "source": [
        "!nvcc --version\n",
        "!nvidia-smi"
      ],
      "metadata": {
        "id": "itLDj4hxa17o"
      },
      "execution_count": null,
      "outputs": []
    },
    {
      "cell_type": "code",
      "source": [
        "import numpy as np\n",
        "import time, os, sys\n",
        "from urllib.parse import urlparse\n",
        "from glob import glob\n",
        "import skimage.io\n",
        "import matplotlib.pyplot as plt\n",
        "import matplotlib as mpl\n",
        "%matplotlib inline\n",
        "mpl.rcParams['figure.dpi'] = 300\n",
        "from cellpose import utils\n",
        "import cv2\n",
        "from tqdm import tqdm\n",
        "import csv\n",
        "from skimage.measure import find_contours\n",
        "from skimage.measure import label\n",
        "\n",
        "\n",
        "from cellpose import models, core\n",
        "\n",
        "#use_GPU = models.use_gpu()\n",
        "use_GPU = core.use_gpu()\n",
        "print('>>> GPU activated? %d'%use_GPU)"
      ],
      "metadata": {
        "colab": {
          "base_uri": "https://localhost:8080/"
        },
        "id": "BnoBB8OZbVJL",
        "outputId": "f4e0840f-e45d-4d55-c078-5edc831afe33"
      },
      "execution_count": null,
      "outputs": [
        {
          "output_type": "stream",
          "name": "stdout",
          "text": [
            ">>> GPU activated? 1\n"
          ]
        }
      ]
    },
    {
      "cell_type": "markdown",
      "source": [
        "Function for extracting useful information from filenames and writing to file\n"
      ],
      "metadata": {
        "id": "SA8UHJxegNYT"
      }
    },
    {
      "cell_type": "code",
      "source": [
        "# Function to extract information from filename\n",
        "def extract_info_from_filename(filename):\n",
        "    iso, gen, age, treat = None, None, None, None\n",
        "\n",
        "    for part in filename.split(\"_\"):\n",
        "        if part.startswith('I') and part[1:].isdigit():\n",
        "            iso = int(part[1:])\n",
        "        elif part.startswith('F') and part[1:].isdigit():\n",
        "            gen = int(part[1:])\n",
        "        elif part.startswith('O') or part.startswith('Y'):\n",
        "            age = part[0]\n",
        "        elif part.lower() in ['swi', 'con']:\n",
        "            treat = part.upper()\n",
        "\n",
        "    return iso, gen, age, treat"
      ],
      "metadata": {
        "id": "UQ_ptIYSgl9l"
      },
      "execution_count": null,
      "outputs": []
    },
    {
      "cell_type": "code",
      "source": [
        "import os\n",
        "import time\n",
        "import pandas as pd\n",
        "import re\n",
        "import numpy as np\n",
        "from skimage import io, color\n",
        "from tqdm import tqdm  # Assuming tqdm is imported properly\n",
        "from cellpose import models  # Assuming cellpose.models is imported properly\n",
        "\n",
        "# Path to the images folder to process\n",
        "image_folder = \"/content/drive/Othercomputers/ThinkPad/Desktop/Folsomia candida/Data/egg count images/cropped\"\n",
        "\n",
        "# Get a list of all image files with .tif or .jpg extension in the folder\n",
        "image_paths = [os.path.join(image_folder, file) for file in os.listdir(image_folder) if file.lower().endswith(('.tif', '.jpg'))]\n",
        "\n",
        "# Set the output folder path\n",
        "output_folder = \"/content/drive/Othercomputers/ThinkPad/Desktop/Folsomia candida/Data/egg count images/cellpose processed\"\n",
        "\n",
        "# Create the CSV file path\n",
        "csv_file_path = \"/content/drive/Othercomputers/ThinkPad/Desktop/Folsomia candida/Data/egg count images/cellpose processed/results.csv\"\n",
        "fieldnames = ['image', 'num_cells', 'date', 'iso', 'gen', 'age', 'treat', 'false_pos', 'false_neg', 'final_count']\n",
        "\n",
        "# Create a folder for saving label files\n",
        "label_folder = \"/content/drive/Othercomputers/ThinkPad/Desktop/Folsomia candida/Data/egg count images/cellpose processed/labels\"\n",
        "os.makedirs(label_folder, exist_ok=True)\n",
        "\n",
        "# Load the chosen Cellpose model\n",
        "model = models.Cellpose(gpu=True, model_type='cyto2')  # Change to true to turn on GPU\n",
        "\n",
        "# Check if the CSV file already exists\n",
        "if os.path.exists(csv_file_path):\n",
        "    # Open the CSV file in append mode\n",
        "    with open(csv_file_path, 'a', newline='') as csv_file:\n",
        "        csv_writer = csv.writer(csv_file)\n",
        "\n",
        "        # Assuming 'files' is the list of input image paths\n",
        "        for image_path in tqdm(image_paths):\n",
        "            print(f\"Processing image: {image_path}\")\n",
        "\n",
        "            # Extract information from the filename\n",
        "            isoline, generation, age, treatment = extract_info_from_filename(os.path.basename(image_path))\n",
        "            print(f\"Extracted Info: {isoline}, {generation}, {age}, {treatment}\")\n",
        "\n",
        "            # Extract date from the image filename using regular expression\n",
        "            date_match = re.search(r'(\\d{2}-\\d{2}-\\d{2})', os.path.basename(image_path))\n",
        "            date = date_match.group(1) if date_match else None\n",
        "            print(f\"Extracted Date: {date}\")\n",
        "\n",
        "            t1 = time.time()\n",
        "            img = skimage.io.imread(image_path)\n",
        "\n",
        "            # Evaluate the model to get the labels directly\n",
        "            labels, _, _, _ = model.eval(\n",
        "                img,\n",
        "                diameter=8,\n",
        "                channels=[1, 1],\n",
        "                do_3D=False,\n",
        "                flow_threshold=0.8,\n",
        "                cellprob_threshold=-0.8,\n",
        "                stitch_threshold=0.0\n",
        "            )\n",
        "\n",
        "            # Save the label file\n",
        "            label_filename = os.path.join(label_folder, os.path.splitext(os.path.basename(image_path))[0] + '_labels.tif')\n",
        "            io.imsave(label_filename, labels.astype('uint16'))\n",
        "\n",
        "            # Prepare the data to be written to the CSV\n",
        "            csv_data = [\n",
        "                os.path.splitext(os.path.basename(image_path))[0],\n",
        "                np.max(labels),  # Number of cells detected\n",
        "                date,  # Extracted date\n",
        "                isoline,\n",
        "                generation,\n",
        "                age,\n",
        "                treatment,\n",
        "                \"\",  # false_pos\n",
        "                \"\",  # false_neg\n",
        "                \"\"   # final_count\n",
        "            ]\n",
        "\n",
        "            # Write the data to the CSV\n",
        "            csv_writer.writerow(csv_data)\n",
        "\n",
        "            # Create an overlay image with labels\n",
        "            overlay_image = img.copy()\n",
        "            overlay_image = color.label2rgb(labels, img, bg_label=0)\n",
        "\n",
        "            # Construct the output overlay image path in the specified folder\n",
        "            overlay_name = os.path.join(output_folder, os.path.splitext(os.path.basename(image_path))[0] + '_overlay.png')\n",
        "\n",
        "            # Convert the overlay image to uint8\n",
        "            overlay_image_uint8 = (overlay_image * 255).astype(np.uint8)\n",
        "\n",
        "            # Save the overlay image to the specified folder\n",
        "            io.imsave(overlay_name, overlay_image_uint8)\n",
        "\n",
        "            t2 = time.time()\n",
        "            time_elapsed = (t2 - t1) / 60\n",
        "            print(f'Time spent on current image: {round(time_elapsed, 1)} minutes')\n",
        "            print('------')\n",
        "\n",
        "else:\n",
        "    # If the CSV file doesn't exist, create it and write the header\n",
        "    with open(csv_file_path, 'w', newline='') as csv_file:\n",
        "        csv_writer = csv.writer(csv_file)\n",
        "        csv_writer.writerow(fieldnames)  # Write the header\n",
        "        print(\"CSV file created.\")\n"
      ],
      "metadata": {
        "id": "7qcMAEuUgDHV"
      },
      "execution_count": null,
      "outputs": []
    }
  ]
}